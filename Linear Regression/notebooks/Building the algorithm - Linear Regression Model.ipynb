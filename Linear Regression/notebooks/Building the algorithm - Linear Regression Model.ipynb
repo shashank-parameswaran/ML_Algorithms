{
 "cells": [
  {
   "cell_type": "markdown",
   "metadata": {},
   "source": [
    "## Building a Linear Regression Model\n",
    "\n",
    "The intent behind this excerise is to understand and code the algorithm in a basic linear regression model "
   ]
  },
  {
   "cell_type": "code",
   "execution_count": null,
   "metadata": {},
   "outputs": [],
   "source": [
    "import pandas as pd\n",
    "import numpy as np\n",
    "import os\n",
    "import math\n",
    "import matplotlib.pyplot as plt"
   ]
  },
  {
   "cell_type": "code",
   "execution_count": 3,
   "metadata": {},
   "outputs": [],
   "source": []
  },
  {
   "cell_type": "code",
   "execution_count": 66,
   "metadata": {},
   "outputs": [
    {
     "name": "stdout",
     "output_type": "stream",
     "text": [
      "(1460, 3) (1460,)\n"
     ]
    }
   ],
   "source": [
    "dataset = pd.read_csv(\"train.csv\")\n",
    "dataset.shape\n",
    "\n",
    "X = np.array(dataset[['LotArea', 'OverallQual', 'OverallCond']])\n",
    "Y = np.array(dataset['SalePrice'])\n",
    "print(X.shape, Y.shape)\n",
    "np.random.seed(2)"
   ]
  },
  {
   "cell_type": "code",
   "execution_count": 92,
   "metadata": {},
   "outputs": [
    {
     "name": "stdout",
     "output_type": "stream",
     "text": [
      "3 1460 [[0.34982629 0.46778748 0.20174323]] [[0.64040673]] 1e-10\n"
     ]
    }
   ],
   "source": [
    "Y = np.reshape(Y, (len(Y), 1))\n",
    "m = X.shape[0]\n",
    "\n",
    "n_inputs = X.shape[1]\n",
    "n_inputs\n",
    "\n",
    "\n",
    "W = np.random.rand(n_inputs).reshape((1, n_inputs))\n",
    "B = np.random.rand(1).reshape((1,1))\n",
    "\n",
    "learning_rate = 0.0000000001\n",
    "learning_rate_intc = 0.0001\n",
    "print(n_inputs, m, W, B, learning_rate)"
   ]
  },
  {
   "cell_type": "code",
   "execution_count": 97,
   "metadata": {},
   "outputs": [
    {
     "name": "stdout",
     "output_type": "stream",
     "text": [
      "[[5.19002818 5.30798938 5.04194512]] [[97203.22854365]]\n",
      "[[3.30275537 3.42071657 3.15467231]] [[134835.31320745]] 1134807.2707476334 -22627.97572194507 6139295078.302673 9999\n"
     ]
    }
   ],
   "source": [
    "cost = 0\n",
    "graph_var = []\n",
    "print(W, B)\n",
    "for i in range(1,10000):\n",
    "    #print(W, B)\n",
    "    Z = np.dot(W, X.T) + B\n",
    "\n",
    "    dW1 = 1/m*2*np.sum(np.dot(Z - Y.T, X))\n",
    "    dB1 = 1/m*2*np.sum(Z - Y.T)\n",
    "    \n",
    "    cost = 1/m*np.sum(np.power((Z - Y.T), 2))\n",
    "    \n",
    "    W = W - learning_rate*dW1\n",
    "    B = B - learning_rate_intc*dB1\n",
    "    \n",
    "    graph_var.append([i, cost, W, B])\n",
    "    if np.isnan(np.min(W)):\n",
    "        print(i)\n",
    "        break\n",
    "print(W, B, dW1, dB1, cost, i)\n"
   ]
  },
  {
   "cell_type": "code",
   "execution_count": 98,
   "metadata": {},
   "outputs": [
    {
     "data": {
      "image/png": "[encoded data removed]",
      "text/plain": [
       "<Figure size 432x288 with 1 Axes>"
      ]
     },
     "metadata": {
      "needs_background": "light"
     },
     "output_type": "display_data"
    }
   ],
   "source": [
    "graph_var = np.array(graph_var).T\n",
    "\n",
    "plt.plot(graph_var[0], graph_var[1],label = \"Cost\", color = \"Blue\")\n",
    "plt.plot(graph_var[0], graph_var[3],label = \"Intercept\", color = \"Green\")\n",
    "plt.xlabel(\"Iterations\")\n",
    "plt.legend()\n",
    "plt.show()"
   ]
  },
  {
   "cell_type": "code",
   "execution_count": 57,
   "metadata": {},
   "outputs": [],
   "source": [
    "def predict(W, B, X_test):\n",
    "    \n",
    "    Y_predict = np.dot(W, X_test) + B\n",
    "    return Y_predict"
   ]
  },
  {
   "cell_type": "code",
   "execution_count": 58,
   "metadata": {},
   "outputs": [
    {
     "name": "stdout",
     "output_type": "stream",
     "text": [
      "[[141037.71000025 146997.19274356]]\n"
     ]
    }
   ],
   "source": [
    "W = W.reshape((1,1))\n",
    "X_test = np.array([8450, 9600]).reshape((1,2))\n",
    "Y_pred = predict(W, B, X_test)\n",
    "print(Y_pred)"
   ]
  },
  {
   "cell_type": "code",
   "execution_count": 51,
   "metadata": {},
   "outputs": [
    {
     "data": {
      "text/plain": [
       "(1,)"
      ]
     },
     "execution_count": 51,
     "metadata": {},
     "output_type": "execute_result"
    }
   ],
   "source": [
    "W.shape"
   ]
  },
  {
   "cell_type": "code",
   "execution_count": 251,
   "metadata": {},
   "outputs": [
    {
     "data": {
      "text/plain": [
       "array([[-2.94942776e+12]])"
      ]
     },
     "execution_count": 251,
     "metadata": {},
     "output_type": "execute_result"
    }
   ],
   "source": [
    "Z = np.dot(W, X.T) - B\n",
    "np.dot(Z - Y.T, X)"
   ]
  },
  {
   "cell_type": "code",
   "execution_count": 68,
   "metadata": {},
   "outputs": [
    {
     "name": "stdout",
     "output_type": "stream",
     "text": [
      "[ 1.45029563e+00  4.42969972e+04 -4.23673738e+02]\n",
      "-102150.53018167938\n"
     ]
    }
   ],
   "source": [
    "from sklearn.linear_model import LinearRegression\n",
    "regressor = LinearRegression()  \n",
    "regressor.fit(X, Y)\n",
    "print(regressor.coef_)\n",
    "print(regressor.intercept_)"
   ]
  },
  {
   "cell_type": "code",
   "execution_count": 57,
   "metadata": {},
   "outputs": [
    {
     "name": "stdout",
     "output_type": "stream",
     "text": [
      "[210779.12544539] [-5.8277898]\n"
     ]
    }
   ],
   "source": [
    "from sklearn.linear_model import SGDRegressor\n",
    "sgd_reg = SGDRegressor(max_iter=5000, penalty=None, eta0=0.0000001)\n",
    "sgd_reg.fit(X, Y.ravel())\n",
    "print(sgd_reg.intercept_, sgd_reg.coef_)"
   ]
  },
  {
   "cell_type": "code",
   "execution_count": 215,
   "metadata": {},
   "outputs": [
    {
     "name": "stdout",
     "output_type": "stream",
     "text": [
      "[[2.09997195]]\n",
      "[158836.15189688]\n"
     ]
    }
   ],
   "source": []
  },
  {
   "cell_type": "code",
   "execution_count": 18,
   "metadata": {},
   "outputs": [
    {
     "data": {
      "text/plain": [
       "array([[-3.43291305e+09]])"
      ]
     },
     "execution_count": 18,
     "metadata": {},
     "output_type": "execute_result"
    }
   ],
   "source": [
    "Z = np.dot(W, X.T) - B\n",
    "np.dot(Z - Y.T, X)"
   ]
  },
  {
   "cell_type": "code",
   "execution_count": 22,
   "metadata": {},
   "outputs": [
    {
     "name": "stdout",
     "output_type": "stream",
     "text": [
      "[3684.13099687 4185.52513433]\n",
      "[[208500 181500]]\n",
      "[[-204815.86900313 -177314.47486567]]\n",
      "[[8450]\n",
      " [9600]]\n"
     ]
    }
   ],
   "source": [
    "print(Z)\n",
    "print(Y.T)\n",
    "print(Z - Y.T)\n",
    "print(X)"
   ]
  }
 ],
 "metadata": {
  "kernelspec": {
   "display_name": "Python 3",
   "language": "python",
   "name": "python3"
  },
  "language_info": {
   "codemirror_mode": {
    "name": "ipython",
    "version": 3
   },
   "file_extension": ".py",
   "mimetype": "text/x-python",
   "name": "python",
   "nbconvert_exporter": "python",
   "pygments_lexer": "ipython3",
   "version": "3.7.1"
  }
 },
 "nbformat": 4,
 "nbformat_minor": 2
}
