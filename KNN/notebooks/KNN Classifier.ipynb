{
 "cells": [
  {
   "cell_type": "markdown",
   "metadata": {},
   "source": [
    "# KNN Algorithm"
   ]
  },
  {
   "cell_type": "markdown",
   "metadata": {},
   "source": [
    "K Nearest Neighbours method uses the closest k observations to predict the output $\\hat Y$. We are using Euclidean distance as a measure of closeness. After finding the k closest observations we take the average of each class of response and assign $\\hat Y$ with the highest average. Below is the mathematical respresentation:  \n",
    "$\\hat Y(x) = \\frac{1}{k} \\Sigma_{x\\in N_k(x)}    y_i$"
   ]
  },
  {
   "cell_type": "code",
   "execution_count": 15,
   "metadata": {},
   "outputs": [],
   "source": [
    "# Import necessary libraries\n",
    "import pandas as pd\n",
    "import numpy as np\n",
    "import os\n",
    "import matplotlib.pyplot as plt\n",
    "import seaborn as sns"
   ]
  },
  {
   "cell_type": "code",
   "execution_count": 8,
   "metadata": {},
   "outputs": [
    {
     "data": {
      "text/html": [
       "<div>\n",
       "<style scoped>\n",
       "    .dataframe tbody tr th:only-of-type {\n",
       "        vertical-align: middle;\n",
       "    }\n",
       "\n",
       "    .dataframe tbody tr th {\n",
       "        vertical-align: top;\n",
       "    }\n",
       "\n",
       "    .dataframe thead th {\n",
       "        text-align: right;\n",
       "    }\n",
       "</style>\n",
       "<table border=\"1\" class=\"dataframe\">\n",
       "  <thead>\n",
       "    <tr style=\"text-align: right;\">\n",
       "      <th></th>\n",
       "      <th>X1</th>\n",
       "      <th>X2</th>\n",
       "      <th>Y</th>\n",
       "    </tr>\n",
       "  </thead>\n",
       "  <tbody>\n",
       "    <tr>\n",
       "      <th>0</th>\n",
       "      <td>-0.216280</td>\n",
       "      <td>-1.20980</td>\n",
       "      <td>1</td>\n",
       "    </tr>\n",
       "    <tr>\n",
       "      <th>1</th>\n",
       "      <td>-0.832790</td>\n",
       "      <td>-2.76120</td>\n",
       "      <td>1</td>\n",
       "    </tr>\n",
       "    <tr>\n",
       "      <th>2</th>\n",
       "      <td>0.062666</td>\n",
       "      <td>0.86427</td>\n",
       "      <td>1</td>\n",
       "    </tr>\n",
       "    <tr>\n",
       "      <th>3</th>\n",
       "      <td>0.143840</td>\n",
       "      <td>-0.24230</td>\n",
       "      <td>1</td>\n",
       "    </tr>\n",
       "    <tr>\n",
       "      <th>4</th>\n",
       "      <td>-0.573240</td>\n",
       "      <td>-0.42599</td>\n",
       "      <td>1</td>\n",
       "    </tr>\n",
       "  </tbody>\n",
       "</table>\n",
       "</div>"
      ],
      "text/plain": [
       "         X1       X2  Y\n",
       "0 -0.216280 -1.20980  1\n",
       "1 -0.832790 -2.76120  1\n",
       "2  0.062666  0.86427  1\n",
       "3  0.143840 -0.24230  1\n",
       "4 -0.573240 -0.42599  1"
      ]
     },
     "execution_count": 8,
     "metadata": {},
     "output_type": "execute_result"
    }
   ],
   "source": [
    "# Import train and test data\n",
    "train = pd.read_csv(\"train.txt\", sep=',', header=None)\n",
    "train.columns = [\"X1\", \"X2\", \"Y\"]\n",
    "test = pd.read_csv(\"test.txt\", sep=',', header=None)\n",
    "test.columns = [\"X1\", \"X2\"]\n",
    "train.head()"
   ]
  },
  {
   "cell_type": "code",
   "execution_count": 9,
   "metadata": {},
   "outputs": [],
   "source": [
    "# KNN Function that returns the predicted values for the test set given the training set\n",
    "# Value of k can be specified\n",
    "# Idea is to get the Euclidean distance of each point in the test dataset from the training set and then find k nearest points\n",
    "def knn_classifier(train, test, k):\n",
    "\n",
    "    pred = []\n",
    "    for i in range(test.shape[0]):\n",
    "        # create an array with the same number of observations as training dataset\n",
    "        # It makes it easier for computation instead of using another for loop\n",
    "        dup_df = np.tile([[test.iloc[i,0],test.iloc[i,1]]],test.shape[0]).reshape((test.shape[0],2))\n",
    "        diff_sum = 0\n",
    "        for j in range(len(test.columns)):\n",
    "            # Subtract each column\n",
    "            dup_df[:,j] = dup_df[:,j] - train.loc[:,train.columns[j]].values\n",
    "        # Taking the sum of squares and square root\n",
    "        dup_df = np.square(dup_df)\n",
    "        dup_df = np.sum(dup_df, axis=1)\n",
    "        dup_df = np.sqrt(dup_df)\n",
    "        dup_df = pd.DataFrame(dup_df, columns=[\"val\"])\n",
    "        dup_df[\"Y\"] = train.loc[:,\"Y\"]\n",
    "        dup_df = dup_df.sort_values(by=['val']).reset_index() # sorting values\n",
    "        # picking k points with least distance from the test point\n",
    "        dup_df = dup_df.loc[0:k,:]\n",
    "        # Check if the average is greater than 0.5 - works only for binary case\n",
    "        # Change it if you need it for a multi class classification\n",
    "        if(dup_df[\"Y\"].sum()/dup_df.shape[0] >= 0.5):\n",
    "            pred.append(1)\n",
    "        else:\n",
    "            pred.append(0)\n",
    "    return(pred)\n",
    "    "
   ]
  },
  {
   "cell_type": "code",
   "execution_count": 10,
   "metadata": {},
   "outputs": [],
   "source": [
    "k = 15\n",
    "predicted_output = knn_classifier(train, test, k)"
   ]
  },
  {
   "cell_type": "code",
   "execution_count": 11,
   "metadata": {},
   "outputs": [],
   "source": [
    "# Lets check with sklearn package to see if we have predicted it right\n",
    "from sklearn.neighbors import KNeighborsClassifier\n",
    "X = train[[\"X1\", \"X2\"]]\n",
    "Y = train[\"Y\"]\n",
    "model = KNeighborsClassifier(n_neighbors=k)\n",
    "model.fit(X, Y)\n",
    "sklearn_pred = model.predict(test[[\"X1\", \"X2\"]])"
   ]
  },
  {
   "cell_type": "code",
   "execution_count": 13,
   "metadata": {},
   "outputs": [
    {
     "data": {
      "text/plain": [
       "0.985"
      ]
     },
     "execution_count": 13,
     "metadata": {},
     "output_type": "execute_result"
    }
   ],
   "source": [
    "s = 0\n",
    "for i in range(len(predicted_output)):\n",
    "    if(predicted_output[i] == sklearn_pred[i]):\n",
    "        s = s+1\n",
    "s/test.shape[0]"
   ]
  },
  {
   "cell_type": "markdown",
   "metadata": {},
   "source": [
    "We are 98.5% accurate to a widely used model. Please note that this is not the accuracy of the model but just a sanity  check to see if our algorithm is working or not. We are comparing our results with the results from the sklearn.neighbors.KNeighborsClassifier package. The purpose of this exercise is mainly to code the KNN algorithm and get familiar with it.|"
   ]
  },
  {
   "cell_type": "code",
   "execution_count": 19,
   "metadata": {},
   "outputs": [
    {
     "data": {
      "image/png": "[encoded data removed]",
      "text/plain": [
       "<Figure size 432x288 with 1 Axes>"
      ]
     },
     "metadata": {
      "needs_background": "light"
     },
     "output_type": "display_data"
    }
   ],
   "source": [
    "test[\"Y\"] = predicted_output\n",
    "sns.scatterplot(data = test, x = \"X1\", y=\"X2\", hue=\"Y\")\n",
    "plt.show()"
   ]
  }
 ],
 "metadata": {
  "kernelspec": {
   "display_name": "Python 3",
   "language": "python",
   "name": "python3"
  },
  "language_info": {
   "codemirror_mode": {
    "name": "ipython",
    "version": 3
   },
   "file_extension": ".py",
   "mimetype": "text/x-python",
   "name": "python",
   "nbconvert_exporter": "python",
   "pygments_lexer": "ipython3",
   "version": "3.7.1"
  }
 },
 "nbformat": 4,
 "nbformat_minor": 2
}
